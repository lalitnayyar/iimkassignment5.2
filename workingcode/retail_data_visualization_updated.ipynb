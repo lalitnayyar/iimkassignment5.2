{
 "cells": [
  {
   "cell_type": "markdown",
   "metadata": {},
   "source": [
    "# Data Visualization Assignment: Online Retail Analysis\n",
    "\n",
    "## Assignment Information\n",
    "- **Course**: IIMK's Professional Certificate in Data Science and Artificial Intelligence for Managers\n",
    "- **Student Name**: Lalit Nayyar\n",
    "- **Email ID**: lalitnayyar@gmail.com\n",
    "- **Assignment**: Required Assignment 5.2 : Applying Data Visualisation Principles\n",
    "- **Submission Date**: May 11, 2025\n",
    "\n",
    "## Introduction\n",
    "This notebook demonstrates the application of data visualization principles to analyze an online retail dataset. We'll focus on creating clear, effective visualizations for non-technical stakeholders following the 4C's principles:\n",
    "- Clear: Easy to understand and interpret\n",
    "- Clean: Minimal clutter and distractions\n",
    "- Concise: Focused on key information\n",
    "- Captivating: Visually engaging and memorable"
   ]
  },
  {
   "cell_type": "code",
   "execution_count": null,
   "metadata": {},
   "outputs": [],
   "source": [
    "# Import required libraries\n",
    "import pandas as pd\n",
    "import matplotlib.pyplot as plt\n",
    "import seaborn as sns\n",
    "from datetime import datetime\n",
    "\n",
    "# Set style for better visualizations\n",
    "plt.style.use('seaborn')\n",
    "sns.set_palette('husl')\n",
    "\n",
    "# Read the dataset\n",
    "df = pd.read_excel('Online Retail Data Set.xlsx')"
   ]
  },
  {
   "cell_type": "markdown",
   "metadata": {},
   "source": [
    "## Data Preprocessing\n",
    "Before creating visualizations, we'll clean and prepare our data to ensure accurate insights."
   ]
  },
  {
   "cell_type": "code",
   "execution_count": null,
   "metadata": {},
   "outputs": [],
   "source": [
    "# Calculate total sales\n",
    "df['Sales'] = df['Quantity'] * df['UnitPrice']\n",
    "\n",
    "# Convert InvoiceDate to datetime if not already\n",
    "df['InvoiceDate'] = pd.to_datetime(df['InvoiceDate'])\n",
    "\n",
    "# Remove cancelled orders (those starting with 'C')\n",
    "df = df[~df['InvoiceNo'].astype(str).str.startswith('C')]\n",
    "\n",
    "# Remove any negative quantities or prices\n",
    "df = df[(df['Quantity'] > 0) & (df['UnitPrice'] > 0)]"
   ]
  },
  {
   "cell_type": "markdown",
   "metadata": {},
   "source": [
    "## Chart 1: Monthly Sales Trends\n",
    "\n",
    "For the monthly sales trends, we'll use a line chart with markers. This choice follows the 4C's principles:\n",
    "- Clear: Line charts are intuitive for showing trends over time\n",
    "- Clean: Minimal gridlines and clear labeling\n",
    "- Concise: Focus on the trend line without unnecessary elements\n",
    "- Captivating: Use of appropriate colors and markers for emphasis"
   ]
  },
  {
   "cell_type": "code",
   "execution_count": null,
   "metadata": {},
   "outputs": [],
   "source": [
    "# Prepare monthly sales data\n",
    "monthly_sales = df.groupby(df['InvoiceDate'].dt.to_period('M'))['Sales'].sum().reset_index()\n",
    "monthly_sales['InvoiceDate'] = monthly_sales['InvoiceDate'].astype(str)\n",
    "\n",
    "# Create the line plot\n",
    "plt.figure(figsize=(12, 6))\n",
    "plt.plot(monthly_sales['InvoiceDate'], monthly_sales['Sales'], \n",
    "         marker='o', linewidth=2, markersize=8)\n",
    "\n",
    "# Customize the plot\n",
    "plt.title('Monthly Sales Trends', fontsize=14, pad=20)\n",
    "plt.xlabel('Month', fontsize=12)\n",
    "plt.ylabel('Total Sales (£)', fontsize=12)\n",
    "plt.xticks(rotation=45)\n",
    "plt.grid(True, linestyle='--', alpha=0.7)\n",
    "\n",
    "# Add thousand separator to y-axis\n",
    "plt.gca().yaxis.set_major_formatter(plt.FuncFormatter(lambda x, p: format(int(x), ',')))\n",
    "\n",
    "plt.tight_layout()\n",
    "plt.show()"
   ]
  },
  {
   "cell_type": "markdown",
   "metadata": {},
   "source": [
    "## Chart 2: Country-wise Sales Distribution\n",
    "\n",
    "For the country-wise sales distribution, we'll use a horizontal bar chart. This choice aligns with the 4C's:\n",
    "- Clear: Bars make it easy to compare values across categories\n",
    "- Clean: Countries are sorted by sales for better readability\n",
    "- Concise: Focus on top countries to avoid information overload\n",
    "- Captivating: Use of color gradient to enhance visual appeal"
   ]
  },
  {
   "cell_type": "code",
   "execution_count": null,
   "metadata": {},
   "outputs": [],
   "source": [
    "# Prepare country-wise sales data\n",
    "country_sales = df.groupby('Country')['Sales'].sum().sort_values(ascending=True)\n",
    "top_countries = country_sales.tail(10)  # Show top 10 countries\n",
    "\n",
    "# Create horizontal bar plot\n",
    "plt.figure(figsize=(12, 6))\n",
    "bars = plt.barh(range(len(top_countries)), top_countries.values)\n",
    "\n",
    "# Add color gradient\n",
    "colors = plt.cm.Oranges(np.linspace(0.4, 0.8, len(bars)))\n",
    "for bar, color in zip(bars, colors):\n",
    "    bar.set_color(color)\n",
    "\n",
    "# Customize the plot\n",
    "plt.title('Top 10 Countries by Sales', fontsize=14, pad=20)\n",
    "plt.xlabel('Total Sales (£)', fontsize=12)\n",
    "plt.ylabel('Country', fontsize=12)\n",
    "plt.yticks(range(len(top_countries)), top_countries.index)\n",
    "\n",
    "# Add value labels on bars\n",
    "for i, v in enumerate(top_countries.values):\n",
    "    plt.text(v, i, f'£{int(v):,}', va='center', fontsize=10)\n",
    "\n",
    "plt.tight_layout()\n",
    "plt.show()"
   ]
  },
  {
   "cell_type": "markdown",
   "metadata": {},
   "source": [
    "## Explanation of Visualization Choices\n",
    "\n",
    "### Monthly Sales Trends (Line Chart)\n",
    "- The line chart effectively shows the temporal progression of sales\n",
    "- Markers highlight specific data points for easy reference\n",
    "- Grid lines help track values across the chart\n",
    "- Clear labeling and formatting make the numbers easily readable\n",
    "\n",
    "### Country-wise Sales Distribution (Horizontal Bar Chart)\n",
    "- Horizontal bars work well for categorical data with long labels (country names)\n",
    "- Sorting by value helps identify top performers at a glance\n",
    "- Color gradient adds visual interest while maintaining professionalism\n",
    "- Direct labeling of values eliminates the need for precise grid lines\n",
    "\n",
    "Both visualizations follow the 4C's principles while being accessible to non-technical stakeholders. The charts avoid complex statistical terminology and focus on presenting the data in an immediately understandable format."
   ]
  }
 ],
 "metadata": {
  "kernelspec": {
   "display_name": "Python 3 (ipykernel)",
   "language": "python",
   "name": "python3"
  },
  "language_info": {
   "codemirror_mode": {
    "name": "ipython",
    "version": 3
   },
   "file_extension": ".py",
   "mimetype": "text/x-python",
   "name": "python",
   "nbconvert_exporter": "python",
   "pygments_lexer": "ipython3",
   "version": "3.9.13"
  }
 },
 "nbformat": 4,
 "nbformat_minor": 4
}
