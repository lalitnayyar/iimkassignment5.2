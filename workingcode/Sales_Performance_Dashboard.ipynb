{
 "cells": [
  {
   "cell_type": "markdown",
   "metadata": {},
   "source": [
    "# Sales Performance Dashboard Analysis\n",
    "## Data Science Assignment\n",
    "\n",
    "This notebook demonstrates the creation of a comprehensive sales performance dashboard using the Online Retail Dataset. We'll follow data visualization best practices and implement the 4C Principles:\n",
    "- Clear\n",
    "- Concise\n",
    "- Captivating\n",
    "- Credible"
   ]
  },
  {
   "cell_type": "code",
   "execution_count": 2,
   "metadata": {},
   "outputs": [
    {
     "ename": "OSError",
     "evalue": "'seaborn' is not a valid package style, path of style file, URL of style file, or library style name (library styles are listed in `style.available`)",
     "output_type": "error",
     "traceback": [
      "\u001b[1;31m---------------------------------------------------------------------------\u001b[0m",
      "\u001b[1;31mFileNotFoundError\u001b[0m                         Traceback (most recent call last)",
      "File \u001b[1;32m~\\AppData\\Local\\Programs\\Python\\Python39\\lib\\site-packages\\matplotlib\\style\\core.py:137\u001b[0m, in \u001b[0;36muse\u001b[1;34m(style)\u001b[0m\n\u001b[0;32m    136\u001b[0m \u001b[38;5;28;01mtry\u001b[39;00m:\n\u001b[1;32m--> 137\u001b[0m     style \u001b[38;5;241m=\u001b[39m \u001b[43m_rc_params_in_file\u001b[49m\u001b[43m(\u001b[49m\u001b[43mstyle\u001b[49m\u001b[43m)\u001b[49m\n\u001b[0;32m    138\u001b[0m \u001b[38;5;28;01mexcept\u001b[39;00m \u001b[38;5;167;01mOSError\u001b[39;00m \u001b[38;5;28;01mas\u001b[39;00m err:\n",
      "File \u001b[1;32m~\\AppData\\Local\\Programs\\Python\\Python39\\lib\\site-packages\\matplotlib\\__init__.py:873\u001b[0m, in \u001b[0;36m_rc_params_in_file\u001b[1;34m(fname, transform, fail_on_error)\u001b[0m\n\u001b[0;32m    872\u001b[0m rc_temp \u001b[38;5;241m=\u001b[39m {}\n\u001b[1;32m--> 873\u001b[0m \u001b[38;5;28;01mwith\u001b[39;00m _open_file_or_url(fname) \u001b[38;5;28;01mas\u001b[39;00m fd:\n\u001b[0;32m    874\u001b[0m     \u001b[38;5;28;01mtry\u001b[39;00m:\n",
      "File \u001b[1;32m~\\AppData\\Local\\Programs\\Python\\Python39\\lib\\contextlib.py:119\u001b[0m, in \u001b[0;36m_GeneratorContextManager.__enter__\u001b[1;34m(self)\u001b[0m\n\u001b[0;32m    118\u001b[0m \u001b[38;5;28;01mtry\u001b[39;00m:\n\u001b[1;32m--> 119\u001b[0m     \u001b[38;5;28;01mreturn\u001b[39;00m \u001b[38;5;28;43mnext\u001b[39;49m\u001b[43m(\u001b[49m\u001b[38;5;28;43mself\u001b[39;49m\u001b[38;5;241;43m.\u001b[39;49m\u001b[43mgen\u001b[49m\u001b[43m)\u001b[49m\n\u001b[0;32m    120\u001b[0m \u001b[38;5;28;01mexcept\u001b[39;00m \u001b[38;5;167;01mStopIteration\u001b[39;00m:\n",
      "File \u001b[1;32m~\\AppData\\Local\\Programs\\Python\\Python39\\lib\\site-packages\\matplotlib\\__init__.py:850\u001b[0m, in \u001b[0;36m_open_file_or_url\u001b[1;34m(fname)\u001b[0m\n\u001b[0;32m    849\u001b[0m fname \u001b[38;5;241m=\u001b[39m os\u001b[38;5;241m.\u001b[39mpath\u001b[38;5;241m.\u001b[39mexpanduser(fname)\n\u001b[1;32m--> 850\u001b[0m \u001b[38;5;28;01mwith\u001b[39;00m \u001b[38;5;28;43mopen\u001b[39;49m\u001b[43m(\u001b[49m\u001b[43mfname\u001b[49m\u001b[43m,\u001b[49m\u001b[43m \u001b[49m\u001b[43mencoding\u001b[49m\u001b[38;5;241;43m=\u001b[39;49m\u001b[38;5;124;43m'\u001b[39;49m\u001b[38;5;124;43mutf-8\u001b[39;49m\u001b[38;5;124;43m'\u001b[39;49m\u001b[43m)\u001b[49m \u001b[38;5;28;01mas\u001b[39;00m f:\n\u001b[0;32m    851\u001b[0m     \u001b[38;5;28;01myield\u001b[39;00m f\n",
      "\u001b[1;31mFileNotFoundError\u001b[0m: [Errno 2] No such file or directory: 'seaborn'",
      "\nThe above exception was the direct cause of the following exception:\n",
      "\u001b[1;31mOSError\u001b[0m                                   Traceback (most recent call last)",
      "Cell \u001b[1;32mIn[2], line 13\u001b[0m\n\u001b[0;32m     10\u001b[0m warnings\u001b[38;5;241m.\u001b[39mfilterwarnings(\u001b[38;5;124m'\u001b[39m\u001b[38;5;124mignore\u001b[39m\u001b[38;5;124m'\u001b[39m)\n\u001b[0;32m     12\u001b[0m \u001b[38;5;66;03m# Set style for better visualizations\u001b[39;00m\n\u001b[1;32m---> 13\u001b[0m \u001b[43mplt\u001b[49m\u001b[38;5;241;43m.\u001b[39;49m\u001b[43mstyle\u001b[49m\u001b[38;5;241;43m.\u001b[39;49m\u001b[43muse\u001b[49m\u001b[43m(\u001b[49m\u001b[38;5;124;43m'\u001b[39;49m\u001b[38;5;124;43mseaborn\u001b[39;49m\u001b[38;5;124;43m'\u001b[39;49m\u001b[43m)\u001b[49m\n\u001b[0;32m     14\u001b[0m sns\u001b[38;5;241m.\u001b[39mset_palette(\u001b[38;5;124m'\u001b[39m\u001b[38;5;124mSet2\u001b[39m\u001b[38;5;124m'\u001b[39m)\n",
      "File \u001b[1;32m~\\AppData\\Local\\Programs\\Python\\Python39\\lib\\site-packages\\matplotlib\\style\\core.py:139\u001b[0m, in \u001b[0;36muse\u001b[1;34m(style)\u001b[0m\n\u001b[0;32m    137\u001b[0m         style \u001b[38;5;241m=\u001b[39m _rc_params_in_file(style)\n\u001b[0;32m    138\u001b[0m     \u001b[38;5;28;01mexcept\u001b[39;00m \u001b[38;5;167;01mOSError\u001b[39;00m \u001b[38;5;28;01mas\u001b[39;00m err:\n\u001b[1;32m--> 139\u001b[0m         \u001b[38;5;28;01mraise\u001b[39;00m \u001b[38;5;167;01mOSError\u001b[39;00m(\n\u001b[0;32m    140\u001b[0m             \u001b[38;5;124mf\u001b[39m\u001b[38;5;124m\"\u001b[39m\u001b[38;5;132;01m{\u001b[39;00mstyle\u001b[38;5;132;01m!r}\u001b[39;00m\u001b[38;5;124m is not a valid package style, path of style \u001b[39m\u001b[38;5;124m\"\u001b[39m\n\u001b[0;32m    141\u001b[0m             \u001b[38;5;124mf\u001b[39m\u001b[38;5;124m\"\u001b[39m\u001b[38;5;124mfile, URL of style file, or library style name (library \u001b[39m\u001b[38;5;124m\"\u001b[39m\n\u001b[0;32m    142\u001b[0m             \u001b[38;5;124mf\u001b[39m\u001b[38;5;124m\"\u001b[39m\u001b[38;5;124mstyles are listed in `style.available`)\u001b[39m\u001b[38;5;124m\"\u001b[39m) \u001b[38;5;28;01mfrom\u001b[39;00m\u001b[38;5;250m \u001b[39m\u001b[38;5;21;01merr\u001b[39;00m\n\u001b[0;32m    143\u001b[0m filtered \u001b[38;5;241m=\u001b[39m {}\n\u001b[0;32m    144\u001b[0m \u001b[38;5;28;01mfor\u001b[39;00m k \u001b[38;5;129;01min\u001b[39;00m style:  \u001b[38;5;66;03m# don't trigger RcParams.__getitem__('backend')\u001b[39;00m\n",
      "\u001b[1;31mOSError\u001b[0m: 'seaborn' is not a valid package style, path of style file, URL of style file, or library style name (library styles are listed in `style.available`)"
     ]
    }
   ],
   "source": [
    "# Import required libraries\n",
    "import pandas as pd\n",
    "import numpy as np\n",
    "import matplotlib.pyplot as plt\n",
    "import seaborn as sns\n",
    "import plotly.express as px\n",
    "import plotly.graph_objects as go\n",
    "from datetime import datetime\n",
    "import warnings\n",
    "warnings.filterwarnings('ignore')\n",
    "\n",
    "# Set style for better visualizations\n",
    "plt.style.use('seaborn')\n",
    "sns.set_palette('Set2')"
   ]
  },
  {
   "cell_type": "markdown",
   "metadata": {},
   "source": [
    "## 1. Data Loading and Cleaning"
   ]
  },
  {
   "cell_type": "code",
   "execution_count": 3,
   "metadata": {},
   "outputs": [
    {
     "name": "stdout",
     "output_type": "stream",
     "text": [
      "Dataset Info:\n",
      "<class 'pandas.core.frame.DataFrame'>\n",
      "RangeIndex: 541909 entries, 0 to 541908\n",
      "Data columns (total 8 columns):\n",
      " #   Column       Non-Null Count   Dtype         \n",
      "---  ------       --------------   -----         \n",
      " 0   InvoiceNo    541909 non-null  object        \n",
      " 1   StockCode    541909 non-null  object        \n",
      " 2   Description  540455 non-null  object        \n",
      " 3   Quantity     541909 non-null  int64         \n",
      " 4   InvoiceDate  541909 non-null  datetime64[ns]\n",
      " 5   UnitPrice    541909 non-null  float64       \n",
      " 6   CustomerID   406829 non-null  float64       \n",
      " 7   Country      541909 non-null  object        \n",
      "dtypes: datetime64[ns](1), float64(2), int64(1), object(4)\n",
      "memory usage: 33.1+ MB\n",
      "None\n",
      "\n",
      "First few rows:\n"
     ]
    },
    {
     "data": {
      "text/html": [
       "<div>\n",
       "<style scoped>\n",
       "    .dataframe tbody tr th:only-of-type {\n",
       "        vertical-align: middle;\n",
       "    }\n",
       "\n",
       "    .dataframe tbody tr th {\n",
       "        vertical-align: top;\n",
       "    }\n",
       "\n",
       "    .dataframe thead th {\n",
       "        text-align: right;\n",
       "    }\n",
       "</style>\n",
       "<table border=\"1\" class=\"dataframe\">\n",
       "  <thead>\n",
       "    <tr style=\"text-align: right;\">\n",
       "      <th></th>\n",
       "      <th>InvoiceNo</th>\n",
       "      <th>StockCode</th>\n",
       "      <th>Description</th>\n",
       "      <th>Quantity</th>\n",
       "      <th>InvoiceDate</th>\n",
       "      <th>UnitPrice</th>\n",
       "      <th>CustomerID</th>\n",
       "      <th>Country</th>\n",
       "    </tr>\n",
       "  </thead>\n",
       "  <tbody>\n",
       "    <tr>\n",
       "      <th>0</th>\n",
       "      <td>536365</td>\n",
       "      <td>85123A</td>\n",
       "      <td>WHITE HANGING HEART T-LIGHT HOLDER</td>\n",
       "      <td>6</td>\n",
       "      <td>2010-12-01 08:26:00</td>\n",
       "      <td>2.55</td>\n",
       "      <td>17850.0</td>\n",
       "      <td>United Kingdom</td>\n",
       "    </tr>\n",
       "    <tr>\n",
       "      <th>1</th>\n",
       "      <td>536365</td>\n",
       "      <td>71053</td>\n",
       "      <td>WHITE METAL LANTERN</td>\n",
       "      <td>6</td>\n",
       "      <td>2010-12-01 08:26:00</td>\n",
       "      <td>3.39</td>\n",
       "      <td>17850.0</td>\n",
       "      <td>United Kingdom</td>\n",
       "    </tr>\n",
       "    <tr>\n",
       "      <th>2</th>\n",
       "      <td>536365</td>\n",
       "      <td>84406B</td>\n",
       "      <td>CREAM CUPID HEARTS COAT HANGER</td>\n",
       "      <td>8</td>\n",
       "      <td>2010-12-01 08:26:00</td>\n",
       "      <td>2.75</td>\n",
       "      <td>17850.0</td>\n",
       "      <td>United Kingdom</td>\n",
       "    </tr>\n",
       "    <tr>\n",
       "      <th>3</th>\n",
       "      <td>536365</td>\n",
       "      <td>84029G</td>\n",
       "      <td>KNITTED UNION FLAG HOT WATER BOTTLE</td>\n",
       "      <td>6</td>\n",
       "      <td>2010-12-01 08:26:00</td>\n",
       "      <td>3.39</td>\n",
       "      <td>17850.0</td>\n",
       "      <td>United Kingdom</td>\n",
       "    </tr>\n",
       "    <tr>\n",
       "      <th>4</th>\n",
       "      <td>536365</td>\n",
       "      <td>84029E</td>\n",
       "      <td>RED WOOLLY HOTTIE WHITE HEART.</td>\n",
       "      <td>6</td>\n",
       "      <td>2010-12-01 08:26:00</td>\n",
       "      <td>3.39</td>\n",
       "      <td>17850.0</td>\n",
       "      <td>United Kingdom</td>\n",
       "    </tr>\n",
       "  </tbody>\n",
       "</table>\n",
       "</div>"
      ],
      "text/plain": [
       "  InvoiceNo StockCode                          Description  Quantity  \\\n",
       "0    536365    85123A   WHITE HANGING HEART T-LIGHT HOLDER         6   \n",
       "1    536365     71053                  WHITE METAL LANTERN         6   \n",
       "2    536365    84406B       CREAM CUPID HEARTS COAT HANGER         8   \n",
       "3    536365    84029G  KNITTED UNION FLAG HOT WATER BOTTLE         6   \n",
       "4    536365    84029E       RED WOOLLY HOTTIE WHITE HEART.         6   \n",
       "\n",
       "          InvoiceDate  UnitPrice  CustomerID         Country  \n",
       "0 2010-12-01 08:26:00       2.55     17850.0  United Kingdom  \n",
       "1 2010-12-01 08:26:00       3.39     17850.0  United Kingdom  \n",
       "2 2010-12-01 08:26:00       2.75     17850.0  United Kingdom  \n",
       "3 2010-12-01 08:26:00       3.39     17850.0  United Kingdom  \n",
       "4 2010-12-01 08:26:00       3.39     17850.0  United Kingdom  "
      ]
     },
     "execution_count": 3,
     "metadata": {},
     "output_type": "execute_result"
    }
   ],
   "source": [
    "# Load the dataset\n",
    "df = pd.read_excel('Online Retail Data Set.xlsx')\n",
    "\n",
    "# Display basic information about the dataset\n",
    "print(\"Dataset Info:\")\n",
    "print(df.info())\n",
    "print(\"\\nFirst few rows:\")\n",
    "df.head()"
   ]
  },
  {
   "cell_type": "code",
   "execution_count": 4,
   "metadata": {},
   "outputs": [
    {
     "name": "stdout",
     "output_type": "stream",
     "text": [
      "Shape after cleaning: (397884, 10)\n"
     ]
    }
   ],
   "source": [
    "# Data cleaning steps\n",
    "def clean_data(df):\n",
    "    # Remove rows with missing values\n",
    "    df = df.dropna()\n",
    "    \n",
    "    # Remove rows with negative quantities or prices\n",
    "    df = df[(df['Quantity'] > 0) & (df['UnitPrice'] > 0)]\n",
    "    \n",
    "    # Add TotalAmount column\n",
    "    df['TotalAmount'] = df['Quantity'] * df['UnitPrice']\n",
    "    \n",
    "    # Convert InvoiceDate to datetime\n",
    "    df['InvoiceDate'] = pd.to_datetime(df['InvoiceDate'])\n",
    "    \n",
    "    # Extract month and year\n",
    "    df['Month'] = df['InvoiceDate'].dt.to_period('M')\n",
    "    \n",
    "    return df\n",
    "\n",
    "# Clean the data\n",
    "df_clean = clean_data(df.copy())\n",
    "print(\"Shape after cleaning:\", df_clean.shape)"
   ]
  },
  {
   "cell_type": "markdown",
   "metadata": {},
   "source": [
    "## 2. Monthly Sales Trends"
   ]
  },
  {
   "cell_type": "code",
   "execution_count": null,
   "metadata": {},
   "outputs": [],
   "source": [
    "# Calculate monthly sales\n",
    "monthly_sales = df_clean.groupby('Month')['TotalAmount'].sum().reset_index()\n",
    "monthly_sales['Month'] = monthly_sales['Month'].astype(str)\n",
    "\n",
    "# Create monthly sales trend visualization\n",
    "fig = px.line(monthly_sales, x='Month', y='TotalAmount',\n",
    "              title='Monthly Sales Trends',\n",
    "              labels={'TotalAmount': 'Total Sales', 'Month': 'Month'},\n",
    "              template='plotly_white')\n",
    "fig.update_layout(showlegend=False)\n",
    "fig.show()"
   ]
  },
  {
   "cell_type": "markdown",
   "metadata": {},
   "source": [
    "## 3. Best-Selling Products Analysis"
   ]
  },
  {
   "cell_type": "code",
   "execution_count": null,
   "metadata": {},
   "outputs": [],
   "source": [
    "# Calculate top 10 best-selling products by quantity\n",
    "top_products = df_clean.groupby('Description')[\n",
    "    ['Quantity', 'TotalAmount']\n",
    "].agg({\n",
    "    'Quantity': 'sum',\n",
    "    'TotalAmount': 'sum'\n",
    "}).sort_values('TotalAmount', ascending=False).head(10)\n",
    "\n",
    "# Create visualization for best-selling products\n",
    "fig = px.bar(top_products, y=top_products.index, x='TotalAmount',\n",
    "             title='Top 10 Best-Selling Products by Revenue',\n",
    "             labels={'index': 'Product', 'TotalAmount': 'Total Revenue'},\n",
    "             orientation='h',\n",
    "             template='plotly_white')\n",
    "fig.show()"
   ]
  },
  {
   "cell_type": "markdown",
   "metadata": {},
   "source": [
    "## 4. Sales by Country"
   ]
  },
  {
   "cell_type": "code",
   "execution_count": null,
   "metadata": {},
   "outputs": [],
   "source": [
    "# Calculate sales by country\n",
    "country_sales = df_clean.groupby('Country')['TotalAmount'].sum().sort_values(ascending=True)\n",
    "\n",
    "# Create visualization for country sales\n",
    "fig = px.bar(country_sales, \n",
    "             x=country_sales.values,\n",
    "             y=country_sales.index,\n",
    "             title='Sales by Country',\n",
    "             labels={'y': 'Country', 'x': 'Total Sales'},\n",
    "             template='plotly_white')\n",
    "fig.show()"
   ]
  },
  {
   "cell_type": "markdown",
   "metadata": {},
   "source": [
    "## 5. Product Categories Analysis"
   ]
  },
  {
   "cell_type": "code",
   "execution_count": null,
   "metadata": {},
   "outputs": [],
   "source": [
    "# Function to extract categories from description\n",
    "def extract_category(description):\n",
    "    # Common categories in retail data\n",
    "    categories = {\n",
    "        'VINTAGE': 'Vintage Items',\n",
    "        'GARDEN': 'Garden Accessories',\n",
    "        'CHRISTMAS': 'Christmas Items',\n",
    "        'METAL': 'Metal Signs & Decor',\n",
    "        'WOOD': 'Wooden Items',\n",
    "        'GLASS': 'Glassware',\n",
    "        'PAPER': 'Paper Products',\n",
    "        'CERAMIC': 'Ceramic Items'\n",
    "    }\n",
    "    \n",
    "    description = str(description).upper()\n",
    "    for key in categories:\n",
    "        if key in description:\n",
    "            return categories[key]\n",
    "    return 'Other'\n",
    "\n",
    "# Add category column\n",
    "df_clean['Category'] = df_clean['Description'].apply(extract_category)\n",
    "\n",
    "# Analyze sales by category\n",
    "category_sales = df_clean.groupby('Category')['TotalAmount'].sum().sort_values(ascending=True)\n",
    "\n",
    "# Create visualization for category sales\n",
    "fig = px.pie(values=category_sales.values,\n",
    "             names=category_sales.index,\n",
    "             title='Sales Distribution by Product Category',\n",
    "             template='plotly_white')\n",
    "fig.show()"
   ]
  },
  {
   "cell_type": "markdown",
   "metadata": {},
   "source": [
    "## 6. Customer Behavior Analysis"
   ]
  },
  {
   "cell_type": "code",
   "execution_count": null,
   "metadata": {},
   "outputs": [],
   "source": [
    "# Create customer cohorts\n",
    "def create_cohort(df):\n",
    "    # Get the first purchase date for each customer\n",
    "    df['CohortMonth'] = df.groupby('CustomerID')['InvoiceDate'].transform('min').dt.to_period('M')\n",
    "    \n",
    "    # Calculate cohort index\n",
    "    df['CohortIndex'] = (df['InvoiceDate'].dt.to_period('M') - \n",
    "                         df['CohortMonth']).apply(lambda x: x.n)\n",
    "    \n",
    "    return df\n",
    "\n",
    "# Create cohorts\n",
    "df_cohort = create_cohort(df_clean[df_clean['CustomerID'].notna()])\n",
    "\n",
    "# Create cohort analysis\n",
    "cohort_data = df_cohort.groupby(['CohortMonth', 'CohortIndex'])['CustomerID'].nunique().reset_index()\n",
    "cohort_table = cohort_data.pivot(index='CohortMonth',\n",
    "                                columns='CohortIndex',\n",
    "                                values='CustomerID')\n",
    "\n",
    "# Calculate retention rates\n",
    "cohort_sizes = cohort_table.iloc[:, 0]\n",
    "retention_table = cohort_table.divide(cohort_sizes, axis=0)\n",
    "\n",
    "# Plot retention heatmap\n",
    "plt.figure(figsize=(12, 8))\n",
    "sns.heatmap(retention_table,\n",
    "            annot=True,\n",
    "            fmt='.0%',\n",
    "            cmap='YlOrRd')\n",
    "plt.title('Customer Cohort Retention Analysis')\n",
    "plt.xlabel('Cohort Index (Months)')\n",
    "plt.ylabel('Cohort Month')\n",
    "plt.show()"
   ]
  },
  {
   "cell_type": "markdown",
   "metadata": {},
   "source": [
    "## 7. RFM Analysis"
   ]
  },
  {
   "cell_type": "code",
   "execution_count": null,
   "metadata": {},
   "outputs": [],
   "source": [
    "def calculate_rfm(df):\n",
    "    # Calculate Recency, Frequency, Monetary metrics\n",
    "    latest_date = df['InvoiceDate'].max()\n",
    "    rfm = df.groupby('CustomerID').agg({\n",
    "        'InvoiceDate': lambda x: (latest_date - x.max()).days,  # Recency\n",
    "        'InvoiceNo': 'count',  # Frequency\n",
    "        'TotalAmount': 'sum'  # Monetary\n",
    "    })\n",
    "    \n",
    "    rfm.columns = ['Recency', 'Frequency', 'Monetary']\n",
    "    \n",
    "    # Create RFM scores\n",
    "    r_labels = range(4, 0, -1)\n",
    "    r_quartiles = pd.qcut(rfm['Recency'], q=4, labels=r_labels)\n",
    "    f_labels = range(1, 5)\n",
    "    f_quartiles = pd.qcut(rfm['Frequency'], q=4, labels=f_labels)\n",
    "    m_labels = range(1, 5)\n",
    "    m_quartiles = pd.qcut(rfm['Monetary'], q=4, labels=m_labels)\n",
    "    \n",
    "    rfm['R'] = r_quartiles\n",
    "    rfm['F'] = f_quartiles\n",
    "    rfm['M'] = m_quartiles\n",
    "    \n",
    "    return rfm\n",
    "\n",
    "# Calculate RFM metrics\n",
    "rfm_df = calculate_rfm(df_clean[df_clean['CustomerID'].notna()])\n",
    "\n",
    "# Create RFM segments\n",
    "rfm_df['RFM_Score'] = rfm_df['R'].astype(str) + \\\n",
    "                      rfm_df['F'].astype(str) + \\\n",
    "                      rfm_df['M'].astype(str)\n",
    "\n",
    "# Visualize RFM distribution\n",
    "fig = px.scatter_3d(rfm_df, x='Recency', y='Frequency', z='Monetary',\n",
    "                    color='RFM_Score',\n",
    "                    title='3D RFM Analysis',\n",
    "                    template='plotly_white')\n",
    "fig.show()"
   ]
  },
  {
   "cell_type": "markdown",
   "metadata": {},
   "source": [
    "## 8. Product Associations"
   ]
  },
  {
   "cell_type": "code",
   "execution_count": null,
   "metadata": {},
   "outputs": [],
   "source": [
    "from mlxtend.frequent_patterns import apriori\n",
    "from mlxtend.frequent_patterns import association_rules\n",
    "\n",
    "# Create basket data\n",
    "basket = df_clean.groupby(['InvoiceNo', 'Description'])['Quantity'].sum().unstack().fillna(0)\n",
    "basket_sets = (basket > 0).astype(int)\n",
    "\n",
    "# Generate frequent itemsets\n",
    "frequent_itemsets = apriori(basket_sets, min_support=0.01, use_colnames=True)\n",
    "\n",
    "# Generate association rules\n",
    "rules = association_rules(frequent_itemsets, metric='lift', min_threshold=1)\n",
    "rules = rules.sort_values('lift', ascending=False)\n",
    "\n",
    "# Visualize top 10 association rules\n",
    "plt.figure(figsize=(10, 6))\n",
    "sns.scatterplot(data=rules.head(10), x='support', y='confidence', size='lift', hue='lift')\n",
    "plt.title('Top 10 Product Association Rules')\n",
    "plt.show()"
   ]
  },
  {
   "cell_type": "markdown",
   "metadata": {},
   "source": [
    "## Summary of Analysis\n",
    "\n",
    "1. **Monthly Sales Trends**:\n",
    "   - Visualized temporal patterns in sales\n",
    "   - Identified seasonal trends and peak sales periods\n",
    "\n",
    "2. **Best-Selling Products**:\n",
    "   - Analyzed top 10 products by revenue\n",
    "   - Highlighted key revenue-generating items\n",
    "\n",
    "3. **Sales by Country**:\n",
    "   - Mapped global sales distribution\n",
    "   - Identified key markets and opportunities\n",
    "\n",
    "4. **Product Categories**:\n",
    "   - Extracted and analyzed product categories\n",
    "   - Visualized sales distribution across categories\n",
    "\n",
    "5. **Customer Behavior**:\n",
    "   - Created customer cohorts\n",
    "   - Analyzed retention patterns\n",
    "\n",
    "6. **RFM Analysis**:\n",
    "   - Segmented customers based on Recency, Frequency, and Monetary value\n",
    "   - Identified high-value customer segments\n",
    "\n",
    "7. **Product Associations**:\n",
    "   - Discovered frequently co-purchased items\n",
    "   - Identified strong product relationships\n",
    "\n",
    "This dashboard provides a comprehensive view of the business performance, customer behavior, and product relationships, enabling data-driven decision-making for the management team."
   ]
  }
 ],
 "metadata": {
  "kernelspec": {
   "display_name": "Python 3 (ipykernel)",
   "language": "python",
   "name": "python3"
  },
  "language_info": {
   "codemirror_mode": {
    "name": "ipython",
    "version": 3
   },
   "file_extension": ".py",
   "mimetype": "text/x-python",
   "name": "python",
   "nbconvert_exporter": "python",
   "pygments_lexer": "ipython3",
   "version": "3.9.13"
  }
 },
 "nbformat": 4,
 "nbformat_minor": 4
}
