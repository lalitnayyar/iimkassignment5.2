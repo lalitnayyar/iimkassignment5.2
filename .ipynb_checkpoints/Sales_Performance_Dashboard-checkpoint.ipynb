{
 "cells": [
  {
   "cell_type": "markdown",
   "metadata": {},
   "source": [
    "# Sales Performance Dashboard Analysis\n",
    "## Data Science Assignment\n",
    "\n",
    "This notebook demonstrates the creation of a comprehensive sales performance dashboard using the Online Retail Dataset. We'll follow data visualization best practices and implement the 4C Principles:\n",
    "- Clear\n",
    "- Concise\n",
    "- Captivating\n",
    "- Credible"
   ]
  },
  {
   "cell_type": "code",
   "execution_count": null,
   "metadata": {},
   "source": [
    "# Import required libraries\n",
    "import pandas as pd\n",
    "import numpy as np\n",
    "import matplotlib.pyplot as plt\n",
    "import seaborn as sns\n",
    "import plotly.express as px\n",
    "import plotly.graph_objects as go\n",
    "from datetime import datetime\n",
    "import warnings\n",
    "warnings.filterwarnings('ignore')\n",
    "\n",
    "# Set style for better visualizations\n",
    "plt.style.use('seaborn')\n",
    "sns.set_palette('Set2')"
   ]
  },
  {
   "cell_type": "markdown",
   "metadata": {},
   "source": [
    "## 1. Data Loading and Cleaning"
   ]
  },
  {
   "cell_type": "code",
   "execution_count": null,
   "metadata": {},
   "source": [
    "# Load the dataset\n",
    "df = pd.read_excel('Online Retail Data Set.xlsx')\n",
    "\n",
    "# Display basic information about the dataset\n",
    "print(\"Dataset Info:\")\n",
    "print(df.info())\n",
    "print(\"\\nFirst few rows:\")\n",
    "df.head()"
   ]
  },
  {
   "cell_type": "code",
   "execution_count": null,
   "metadata": {},
   "source": [
    "# Data cleaning steps\n",
    "def clean_data(df):\n",
    "    # Remove rows with missing values\n",
    "    df = df.dropna()\n",
    "    \n",
    "    # Remove rows with negative quantities or prices\n",
    "    df = df[(df['Quantity'] > 0) & (df['UnitPrice'] > 0)]\n",
    "    \n",
    "    # Add TotalAmount column\n",
    "    df['TotalAmount'] = df['Quantity'] * df['UnitPrice']\n",
    "    \n",
    "    # Convert InvoiceDate to datetime\n",
    "    df['InvoiceDate'] = pd.to_datetime(df['InvoiceDate'])\n",
    "    \n",
    "    # Extract month and year\n",
    "    df['Month'] = df['InvoiceDate'].dt.to_period('M')\n",
    "    \n",
    "    return df\n",
    "\n",
    "# Clean the data\n",
    "df_clean = clean_data(df.copy())\n",
    "print(\"Shape after cleaning:\", df_clean.shape)"
   ]
  },
  {
   "cell_type": "markdown",
   "metadata": {},
   "source": [
    "## 2. Monthly Sales Trends"
   ]
  },
  {
   "cell_type": "code",
   "execution_count": null,
   "metadata": {},
   "source": [
    "# Calculate monthly sales\n",
    "monthly_sales = df_clean.groupby('Month')['TotalAmount'].sum().reset_index()\n",
    "monthly_sales['Month'] = monthly_sales['Month'].astype(str)\n",
    "\n",
    "# Create monthly sales trend visualization\n",
    "fig = px.line(monthly_sales, x='Month', y='TotalAmount',\n",
    "              title='Monthly Sales Trends',\n",
    "              labels={'TotalAmount': 'Total Sales', 'Month': 'Month'},\n",
    "              template='plotly_white')\n",
    "fig.update_layout(showlegend=False)\n",
    "fig.show()"
   ]
  },
  {
   "cell_type": "markdown",
   "metadata": {},
   "source": [
    "## 3. Best-Selling Products Analysis"
   ]
  },
  {
   "cell_type": "code",
   "execution_count": null,
   "metadata": {},
   "source": [
    "# Calculate top 10 best-selling products by quantity\n",
    "top_products = df_clean.groupby('Description')[\n",
    "    ['Quantity', 'TotalAmount']\n",
    "].agg({\n",
    "    'Quantity': 'sum',\n",
    "    'TotalAmount': 'sum'\n",
    "}).sort_values('TotalAmount', ascending=False).head(10)\n",
    "\n",
    "# Create visualization for best-selling products\n",
    "fig = px.bar(top_products, y=top_products.index, x='TotalAmount',\n",
    "             title='Top 10 Best-Selling Products by Revenue',\n",
    "             labels={'index': 'Product', 'TotalAmount': 'Total Revenue'},\n",
    "             orientation='h',\n",
    "             template='plotly_white')\n",
    "fig.show()"
   ]
  },
  {
   "cell_type": "markdown",
   "metadata": {},
   "source": [
    "## 4. Sales by Country"
   ]
  },
  {
   "cell_type": "code",
   "execution_count": null,
   "metadata": {},
   "source": [
    "# Calculate sales by country\n",
    "country_sales = df_clean.groupby('Country')['TotalAmount'].sum().sort_values(ascending=True)\n",
    "\n",
    "# Create visualization for country sales\n",
    "fig = px.bar(country_sales, \n",
    "             x=country_sales.values,\n",
    "             y=country_sales.index,\n",
    "             title='Sales by Country',\n",
    "             labels={'y': 'Country', 'x': 'Total Sales'},\n",
    "             template='plotly_white')\n",
    "fig.show()"
   ]
  },
  {
   "cell_type": "markdown",
   "metadata": {},
   "source": [
    "## 5. Product Categories Analysis"
   ]
  },
  {
   "cell_type": "code",
   "execution_count": null,
   "metadata": {},
   "source": [
    "# Function to extract categories from description\n",
    "def extract_category(description):\n",
    "    # Common categories in retail data\n",
    "    categories = {\n",
    "        'VINTAGE': 'Vintage Items',\n",
    "        'GARDEN': 'Garden Accessories',\n",
    "        'CHRISTMAS': 'Christmas Items',\n",
    "        'METAL': 'Metal Signs & Decor',\n",
    "        'WOOD': 'Wooden Items',\n",
    "        'GLASS': 'Glassware',\n",
    "        'PAPER': 'Paper Products',\n",
    "        'CERAMIC': 'Ceramic Items'\n",
    "    }\n",
    "    \n",
    "    description = str(description).upper()\n",
    "    for key in categories:\n",
    "        if key in description:\n",
    "            return categories[key]\n",
    "    return 'Other'\n",
    "\n",
    "# Add category column\n",
    "df_clean['Category'] = df_clean['Description'].apply(extract_category)\n",
    "\n",
    "# Analyze sales by category\n",
    "category_sales = df_clean.groupby('Category')['TotalAmount'].sum().sort_values(ascending=True)\n",
    "\n",
    "# Create visualization for category sales\n",
    "fig = px.pie(values=category_sales.values,\n",
    "             names=category_sales.index,\n",
    "             title='Sales Distribution by Product Category',\n",
    "             template='plotly_white')\n",
    "fig.show()"
   ]
  },
  {
   "cell_type": "markdown",
   "metadata": {},
   "source": [
    "## 6. Customer Behavior Analysis"
   ]
  },
  {
   "cell_type": "code",
   "execution_count": null,
   "metadata": {},
   "source": [
    "# Create customer cohorts\n",
    "def create_cohort(df):\n",
    "    # Get the first purchase date for each customer\n",
    "    df['CohortMonth'] = df.groupby('CustomerID')['InvoiceDate'].transform('min').dt.to_period('M')\n",
    "    \n",
    "    # Calculate cohort index\n",
    "    df['CohortIndex'] = (df['InvoiceDate'].dt.to_period('M') - \n",
    "                         df['CohortMonth']).apply(lambda x: x.n)\n",
    "    \n",
    "    return df\n",
    "\n",
    "# Create cohorts\n",
    "df_cohort = create_cohort(df_clean[df_clean['CustomerID'].notna()])\n",
    "\n",
    "# Create cohort analysis\n",
    "cohort_data = df_cohort.groupby(['CohortMonth', 'CohortIndex'])['CustomerID'].nunique().reset_index()\n",
    "cohort_table = cohort_data.pivot(index='CohortMonth',\n",
    "                                columns='CohortIndex',\n",
    "                                values='CustomerID')\n",
    "\n",
    "# Calculate retention rates\n",
    "cohort_sizes = cohort_table.iloc[:, 0]\n",
    "retention_table = cohort_table.divide(cohort_sizes, axis=0)\n",
    "\n",
    "# Plot retention heatmap\n",
    "plt.figure(figsize=(12, 8))\n",
    "sns.heatmap(retention_table,\n",
    "            annot=True,\n",
    "            fmt='.0%',\n",
    "            cmap='YlOrRd')\n",
    "plt.title('Customer Cohort Retention Analysis')\n",
    "plt.xlabel('Cohort Index (Months)')\n",
    "plt.ylabel('Cohort Month')\n",
    "plt.show()"
   ]
  },
  {
   "cell_type": "markdown",
   "metadata": {},
   "source": [
    "## 7. RFM Analysis"
   ]
  },
  {
   "cell_type": "code",
   "execution_count": null,
   "metadata": {},
   "source": [
    "def calculate_rfm(df):\n",
    "    # Calculate Recency, Frequency, Monetary metrics\n",
    "    latest_date = df['InvoiceDate'].max()\n",
    "    rfm = df.groupby('CustomerID').agg({\n",
    "        'InvoiceDate': lambda x: (latest_date - x.max()).days,  # Recency\n",
    "        'InvoiceNo': 'count',  # Frequency\n",
    "        'TotalAmount': 'sum'  # Monetary\n",
    "    })\n",
    "    \n",
    "    rfm.columns = ['Recency', 'Frequency', 'Monetary']\n",
    "    \n",
    "    # Create RFM scores\n",
    "    r_labels = range(4, 0, -1)\n",
    "    r_quartiles = pd.qcut(rfm['Recency'], q=4, labels=r_labels)\n",
    "    f_labels = range(1, 5)\n",
    "    f_quartiles = pd.qcut(rfm['Frequency'], q=4, labels=f_labels)\n",
    "    m_labels = range(1, 5)\n",
    "    m_quartiles = pd.qcut(rfm['Monetary'], q=4, labels=m_labels)\n",
    "    \n",
    "    rfm['R'] = r_quartiles\n",
    "    rfm['F'] = f_quartiles\n",
    "    rfm['M'] = m_quartiles\n",
    "    \n",
    "    return rfm\n",
    "\n",
    "# Calculate RFM metrics\n",
    "rfm_df = calculate_rfm(df_clean[df_clean['CustomerID'].notna()])\n",
    "\n",
    "# Create RFM segments\n",
    "rfm_df['RFM_Score'] = rfm_df['R'].astype(str) + \\\n",
    "                      rfm_df['F'].astype(str) + \\\n",
    "                      rfm_df['M'].astype(str)\n",
    "\n",
    "# Visualize RFM distribution\n",
    "fig = px.scatter_3d(rfm_df, x='Recency', y='Frequency', z='Monetary',\n",
    "                    color='RFM_Score',\n",
    "                    title='3D RFM Analysis',\n",
    "                    template='plotly_white')\n",
    "fig.show()"
   ]
  },
  {
   "cell_type": "markdown",
   "metadata": {},
   "source": [
    "## 8. Product Associations"
   ]
  },
  {
   "cell_type": "code",
   "execution_count": null,
   "metadata": {},
   "source": [
    "from mlxtend.frequent_patterns import apriori\n",
    "from mlxtend.frequent_patterns import association_rules\n",
    "\n",
    "# Create basket data\n",
    "basket = df_clean.groupby(['InvoiceNo', 'Description'])['Quantity'].sum().unstack().fillna(0)\n",
    "basket_sets = (basket > 0).astype(int)\n",
    "\n",
    "# Generate frequent itemsets\n",
    "frequent_itemsets = apriori(basket_sets, min_support=0.01, use_colnames=True)\n",
    "\n",
    "# Generate association rules\n",
    "rules = association_rules(frequent_itemsets, metric='lift', min_threshold=1)\n",
    "rules = rules.sort_values('lift', ascending=False)\n",
    "\n",
    "# Visualize top 10 association rules\n",
    "plt.figure(figsize=(10, 6))\n",
    "sns.scatterplot(data=rules.head(10), x='support', y='confidence', size='lift', hue='lift')\n",
    "plt.title('Top 10 Product Association Rules')\n",
    "plt.show()"
   ]
  },
  {
   "cell_type": "markdown",
   "metadata": {},
   "source": [
    "## Summary of Analysis\n",
    "\n",
    "1. **Monthly Sales Trends**:\n",
    "   - Visualized temporal patterns in sales\n",
    "   - Identified seasonal trends and peak sales periods\n",
    "\n",
    "2. **Best-Selling Products**:\n",
    "   - Analyzed top 10 products by revenue\n",
    "   - Highlighted key revenue-generating items\n",
    "\n",
    "3. **Sales by Country**:\n",
    "   - Mapped global sales distribution\n",
    "   - Identified key markets and opportunities\n",
    "\n",
    "4. **Product Categories**:\n",
    "   - Extracted and analyzed product categories\n",
    "   - Visualized sales distribution across categories\n",
    "\n",
    "5. **Customer Behavior**:\n",
    "   - Created customer cohorts\n",
    "   - Analyzed retention patterns\n",
    "\n",
    "6. **RFM Analysis**:\n",
    "   - Segmented customers based on Recency, Frequency, and Monetary value\n",
    "   - Identified high-value customer segments\n",
    "\n",
    "7. **Product Associations**:\n",
    "   - Discovered frequently co-purchased items\n",
    "   - Identified strong product relationships\n",
    "\n",
    "This dashboard provides a comprehensive view of the business performance, customer behavior, and product relationships, enabling data-driven decision-making for the management team."
   ]
  }
 ],
 "metadata": {
  "kernelspec": {
   "display_name": "Python 3",
   "language": "python",
   "name": "python3"
  },
  "language_info": {
   "codemirror_mode": {
    "name": "ipython",
    "version": 3
   },
   "file_extension": ".py",
   "mimetype": "text/x-python",
   "name": "python",
   "nbconvert_exporter": "python",
   "pygments_lexer": "ipython3",
   "version": "3.8.0"
  }
 },
 "nbformat": 4,
 "nbformat_minor": 4
}
