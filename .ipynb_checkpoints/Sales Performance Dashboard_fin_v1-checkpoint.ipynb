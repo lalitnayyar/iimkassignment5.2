{
 "cells": [
  {
   "cell_type": "markdown",
   "id": "e9bb187e-c7c4-46fd-82d0-d1af0cc793be",
   "metadata": {},
   "source": [
    "# Sales Performance Dashboard\n",
    "\n",
    "## Assignment Information\n",
    "- **Course**: IIMK Professional Certificate in Data Science and Artificial Intelligence for Managers\n",
    "- **Student Name**: Lalit Nayyar\n",
    "- **Email ID**: lalitnayyar@gmail.com\n",
    "- **Assignment**: Required Assignment 5.2 : Applying Data Visualisation Principles\n",
    "\n",
    "## Introduction\n",
    "This notebook presents a comprehensive analysis of the online retail dataset, featuring multiple visualizations that follow the 4C's principles of data visualization. The analysis includes:\n",
    "\n",
    "1. Monthly Sales Trends (with trend line)\n",
    "2. Top 10 Best-selling Products\n",
    "3. Sales by Country\n",
    "4. Seasonal Sales Analysis\n",
    "5. Customer Order Distribution"
   ]
  },
  {
   "cell_type": "code",
   "execution_count": null,
   "id": "232d660c",
   "metadata": {},
   "outputs": [],
   "source": [
    "## Data Loading and Preprocessing\n",
    "\n",
    "import sys\n",
    "sys.path.append('workingcode')\n",
    "\n",
    "from sales_analysis_enhanced import load_and_clean_data\n",
    "import pandas as pd\n",
    "import matplotlib.pyplot as plt\n",
    "import seaborn as sns\n",
    "from IPython.display import Image, display\n",
    "\n",
    "# Load and clean the data\n",
    "df = load_and_clean_data()"
   ]
  },
  {
   "cell_type": "markdown",
   "id": "f8b2660d",
   "metadata": {},
   "source": [
    "## 1. Monthly Sales Trends\n",
    "This visualization shows the overall sales trend over time, including a trend line to highlight the general direction of sales growth."
   ]
  },
  {
   "cell_type": "code",
   "execution_count": null,
   "id": "a1b2660d",
   "metadata": {},
   "outputs": [],
   "source": [
    "display(Image(filename='workingcode/monthly_sales_trends.png'))\n",
    "\n",
    "print('Key Insights:')\n",
    "print('- Overall trend shows consistent growth')\n",
    "print('- Clear seasonal patterns visible')\n",
    "print('- Peak sales occur during holiday seasons')"
   ]
  },
  {
   "cell_type": "markdown",
   "id": "b8b2660d",
   "metadata": {},
   "source": [
    "## 2. Best-selling Products\n",
    "Analysis of the top 10 products by sales value, helping identify the most profitable items."
   ]
  },
  {
   "cell_type": "code",
   "execution_count": null,
   "id": "c1b2660d",
   "metadata": {},
   "outputs": [],
   "source": [
    "display(Image(filename='workingcode/top_products.png'))\n",
    "\n",
    "print('Key Insights:')\n",
    "print('- Top products contribute significantly to revenue')\n",
    "print('- Product mix shows diverse category representation')\n",
    "print('- Opportunities for cross-selling identified')"
   ]
  },
  {
   "cell_type": "markdown",
   "id": "d8b2660d",
   "metadata": {},
   "source": [
    "## 3. Sales by Country\n",
    "Geographical distribution of sales, showing the most important markets."
   ]
  },
  {
   "cell_type": "code",
   "execution_count": null,
   "id": "e1b2660d",
   "metadata": {},
   "outputs": [],
   "source": [
    "display(Image(filename='workingcode/sales_by_country.png'))\n",
    "\n",
    "print('Key Insights:')\n",
    "print('- Market concentration in key regions')\n",
    "print('- Potential for expansion in underserved markets')\n",
    "print('- Strong presence in major European markets')"
   ]
  },
  {
   "cell_type": "markdown",
   "id": "f1b2660d",
   "metadata": {},
   "source": [
    "## 4. Seasonal Analysis\n",
    "Monthly average sales to identify seasonal patterns."
   ]
  },
  {
   "cell_type": "code",
   "execution_count": null,
   "id": "g1b2660d",
   "metadata": {},
   "outputs": [],
   "source": [
    "display(Image(filename='workingcode/seasonal_analysis.png'))\n",
    "\n",
    "print('Key Insights:')\n",
    "print('- Clear seasonal peaks identified')\n",
    "print('- Holiday season shows highest sales')\n",
    "print('- Summer months show lower sales activity')"
   ]
  },
  {
   "cell_type": "markdown",
   "id": "h1b2660d",
   "metadata": {},
   "source": [
    "## 5. Customer Analysis\n",
    "Distribution of customer orders and purchase patterns."
   ]
  },
  {
   "cell_type": "code",
   "execution_count": null,
   "id": "i1b2660d",
   "metadata": {},
   "outputs": [],
   "source": [
    "display(Image(filename='workingcode/customer_analysis.png'))\n",
    "\n",
    "print('Key Insights:')\n",
    "print('- Customer segments identified')\n",
    "print('- Repeat purchase patterns analyzed')\n",
    "print('- High-value customer characteristics defined')"
   ]
  }
 ],
 "metadata": {
  "kernelspec": {
   "display_name": "Python 3 (ipykernel)",
   "language": "python",
   "name": "python3"
  },
  "language_info": {
   "codemirror_mode": {
    "name": "ipython",
    "version": 3
   },
   "file_extension": ".py",
   "mimetype": "text/x-python",
   "name": "python",
   "nbconvert_exporter": "python",
   "pygments_lexer": "ipython3",
   "version": "3.13.2"
  }
 },
 "nbformat": 4,
 "nbformat_minor": 5
}
