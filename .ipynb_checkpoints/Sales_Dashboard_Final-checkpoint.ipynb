{
 "cells": [
  {
   "cell_type": "markdown",
   "metadata": {},
   "source": [
    "# Sales Performance Dashboard Analysis - Final Version\n",
    "## Data Science Assignment\n",
    "\n",
    "This notebook creates comprehensive visualizations and saves them automatically to the visualizations directory."
   ]
  },
  {
   "cell_type": "code",
   "execution_count": null,
   "metadata": {},
   "source": [
    "# Import required libraries\n",
    "import pandas as pd\n",
    "import numpy as np\n",
    "import matplotlib.pyplot as plt\n",
    "import seaborn as sns\n",
    "import plotly.express as px\n",
    "import plotly.graph_objects as go\n",
    "from datetime import datetime\n",
    "import os\n",
    "import warnings\n",
    "warnings.filterwarnings('ignore')\n",
    "\n",
    "# Create visualizations directory if it doesn't exist\n",
    "os.makedirs('visualizations', exist_ok=True)\n",
    "\n",
    "# Set style for better visualizations\n",
    "plt.style.use('default')\n",
    "sns.set_theme(style=\"whitegrid\")\n",
    "\n",
    "# Define color palette\n",
    "colors = ['#2E86C1', '#3498DB', '#5DADE2', '#85C1E9', '#AED6F1']\n",
    "\n",
    "# Function to save plotly figures\n",
    "def save_plotly_fig(fig, filename):\n",
    "    fig.write_image(f'visualizations/{filename}.png')\n",
    "    fig.write_html(f'visualizations/{filename}.html')"
   ]
  },
  {
   "cell_type": "code",
   "execution_count": null,
   "metadata": {},
   "source": [
    "# Load and clean data\n",
    "def load_and_clean_data():\n",
    "    df = pd.read_excel('Online Retail Data Set.xlsx')\n",
    "    df = df.dropna()\n",
    "    df = df[(df['Quantity'] > 0) & (df['UnitPrice'] > 0)]\n",
    "    df['TotalAmount'] = df['Quantity'] * df['UnitPrice']\n",
    "    df['InvoiceDate'] = pd.to_datetime(df['InvoiceDate'])\n",
    "    df['Month'] = df['InvoiceDate'].dt.to_period('M')\n",
    "    return df\n",
    "\n",
    "df_clean = load_and_clean_data()"
   ]
  },
  {
   "cell_type": "markdown",
   "metadata": {},
   "source": [
    "## 1. Monthly Sales Trends"
   ]
  },
  {
   "cell_type": "code",
   "execution_count": null,
   "metadata": {},
   "source": [
    "def create_monthly_sales_chart():\n",
    "    monthly_sales = df_clean.groupby('Month')['TotalAmount'].sum().reset_index()\n",
    "    monthly_sales['Month'] = monthly_sales['Month'].astype(str)\n",
    "    \n",
    "    fig = go.Figure()\n",
    "    fig.add_trace(go.Scatter(\n",
    "        x=monthly_sales['Month'],\n",
    "        y=monthly_sales['TotalAmount'],\n",
    "        mode='lines+markers',\n",
    "        line=dict(color=colors[0], width=3),\n",
    "        marker=dict(size=8)\n",
    "    ))\n",
    "    \n",
    "    fig.update_layout(\n",
    "        title='Monthly Sales Trends',\n",
    "        xaxis_title='Month',\n",
    "        yaxis_title='Total Sales (£)',\n",
    "        template='plotly_white',\n",
    "        showlegend=False\n",
    "    )\n",
    "    \n",
    "    save_plotly_fig(fig, 'monthly_sales_trends')\n",
    "    return fig\n",
    "\n",
    "monthly_sales_chart = create_monthly_sales_chart()\n",
    "monthly_sales_chart.show()"
   ]
  },
  {
   "cell_type": "markdown",
   "metadata": {},
   "source": [
    "## 2. Country Sales Analysis"
   ]
  },
  {
   "cell_type": "code",
   "execution_count": null,
   "metadata": {},
   "source": [
    "def create_country_sales_chart():\n",
    "    country_sales = df_clean.groupby('Country')['TotalAmount'].sum().sort_values(ascending=True)\n",
    "    top_countries = country_sales.tail(10)\n",
    "    \n",
    "    fig = go.Figure()\n",
    "    fig.add_trace(go.Bar(\n",
    "        y=top_countries.index,\n",
    "        x=top_countries.values,\n",
    "        orientation='h',\n",
    "        marker_color=colors[1]\n",
    "    ))\n",
    "    \n",
    "    fig.update_layout(\n",
    "        title='Top 10 Countries by Sales',\n",
    "        xaxis_title='Total Sales (£)',\n",
    "        yaxis_title='Country',\n",
    "        template='plotly_white'\n",
    "    )\n",
    "    \n",
    "    save_plotly_fig(fig, 'country_sales')\n",
    "    return fig\n",
    "\n",
    "country_sales_chart = create_country_sales_chart()\n",
    "country_sales_chart.show()"
   ]
  },
  {
   "cell_type": "markdown",
   "metadata": {},
   "source": [
    "## 3. Product Analysis Dashboard"
   ]
  },
  {
   "cell_type": "code",
   "execution_count": null,
   "metadata": {},
   "source": [
    "def create_product_dashboard():\n",
    "    # Top products\n",
    "    product_sales = df_clean.groupby('Description')['TotalAmount'].sum().sort_values(ascending=False)\n",
    "    top_products = product_sales.head(10)\n",
    "    \n",
    "    fig = go.Figure()\n",
    "    fig.add_trace(go.Bar(\n",
    "        x=top_products.values,\n",
    "        y=top_products.index,\n",
    "        orientation='h',\n",
    "        marker_color=colors[2]\n",
    "    ))\n",
    "    \n",
    "    fig.update_layout(\n",
    "        title='Top 10 Products by Revenue',\n",
    "        xaxis_title='Revenue (£)',\n",
    "        yaxis_title='Product',\n",
    "        template='plotly_white',\n",
    "        height=600\n",
    "    )\n",
    "    \n",
    "    save_plotly_fig(fig, 'product_analysis')\n",
    "    return fig\n",
    "\n",
    "product_dashboard = create_product_dashboard()\n",
    "product_dashboard.show()"
   ]
  },
  {
   "cell_type": "markdown",
   "metadata": {},
   "source": [
    "## 4. Customer Cohort Analysis"
   ]
  },
  {
   "cell_type": "code",
   "execution_count": null,
   "metadata": {},
   "source": [
    "def create_cohort_analysis():\n",
    "    df_cohort = df_clean[df_clean['CustomerID'].notna()].copy()\n",
    "    df_cohort['CohortMonth'] = df_cohort.groupby('CustomerID')['InvoiceDate'].transform('min').dt.to_period('M')\n",
    "    df_cohort['CohortIndex'] = (df_cohort['InvoiceDate'].dt.to_period('M') - df_cohort['CohortMonth']).apply(lambda x: x.n)\n",
    "    \n",
    "    cohort_data = df_cohort.groupby(['CohortMonth', 'CohortIndex'])['CustomerID'].nunique().reset_index()\n",
    "    cohort_table = cohort_data.pivot(index='CohortMonth', columns='CohortIndex', values='CustomerID')\n",
    "    retention_table = cohort_table.divide(cohort_table.iloc[:, 0], axis=0)\n",
    "    \n",
    "    fig = go.Figure(data=go.Heatmap(\n",
    "        z=retention_table.values,\n",
    "        x=retention_table.columns,\n",
    "        y=retention_table.index.astype(str),\n",
    "        colorscale='RdYlBu',\n",
    "        text=np.round(retention_table.values * 100, 1),\n",
    "        texttemplate='%{text}%'\n",
    "    ))\n",
    "    \n",
    "    fig.update_layout(\n",
    "        title='Customer Cohort Retention Analysis',\n",
    "        xaxis_title='Cohort Index (Months)',\n",
    "        yaxis_title='Cohort Month',\n",
    "        template='plotly_white'\n",
    "    )\n",
    "    \n",
    "    save_plotly_fig(fig, 'cohort_analysis')\n",
    "    return fig\n",
    "\n",
    "cohort_analysis = create_cohort_analysis()\n",
    "cohort_analysis.show()"
   ]
  },
  {
   "cell_type": "markdown",
   "metadata": {},
   "source": [
    "## 5. Complete Dashboard"
   ]
  },
  {
   "cell_type": "code",
   "execution_count": null,
   "metadata": {},
   "source": [
    "def create_complete_dashboard():\n",
    "    fig = go.Figure()\n",
    "    \n",
    "    # Create subplots\n",
    "    fig = make_subplots(\n",
    "        rows=2, cols=2,\n",
    "        subplot_titles=('Monthly Sales', 'Top Countries', 'Top Products', 'Customer Retention')\n",
    "    )\n",
    "    \n",
    "    # Add all visualizations\n",
    "    monthly_sales = df_clean.groupby('Month')['TotalAmount'].sum().reset_index()\n",
    "    fig.add_trace(go.Scatter(\n",
    "        x=monthly_sales['Month'].astype(str),\n",
    "        y=monthly_sales['TotalAmount'],\n",
    "        mode='lines+markers'\n",
    "    ), row=1, col=1)\n",
    "    \n",
    "    # Add other plots...\n",
    "    \n",
    "    fig.update_layout(\n",
    "        height=1000,\n",
    "        title_text='Sales Performance Dashboard',\n",
    "        showlegend=False\n",
    "    )\n",
    "    \n",
    "    save_plotly_fig(fig, 'complete_dashboard')\n",
    "    return fig\n",
    "\n",
    "complete_dashboard = create_complete_dashboard()\n",
    "complete_dashboard.show()"
   ]
  }
 ],
 "metadata": {
  "kernelspec": {
   "display_name": "Python 3",
   "language": "python",
   "name": "python3"
  },
  "language_info": {
   "codemirror_mode": {
    "name": "ipython",
    "version": 3
   },
   "file_extension": ".py",
   "mimetype": "text/x-python",
   "name": "python",
   "nbconvert_exporter": "python",
   "pygments_lexer": "ipython3",
   "version": "3.8.0"
  }
 },
 "nbformat": 4,
 "nbformat_minor": 4
}
