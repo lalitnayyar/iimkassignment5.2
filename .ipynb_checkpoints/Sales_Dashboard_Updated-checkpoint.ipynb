{
 "cells": [
  {
   "cell_type": "markdown",
   "metadata": {},
   "source": [
    "# Sales Performance Dashboard Analysis\n",
    "## Data Science Assignment\n",
    "\n",
    "This notebook demonstrates the creation of a comprehensive sales performance dashboard using the Online Retail Dataset. We'll follow data visualization best practices and implement the 4C Principles:\n",
    "- Clear\n",
    "- Concise\n",
    "- Captivating\n",
    "- Credible"
   ]
  },
  {
   "cell_type": "code",
   "execution_count": null,
   "metadata": {},
   "source": [
    "# Import required libraries\n",
    "import pandas as pd\n",
    "import numpy as np\n",
    "import matplotlib.pyplot as plt\n",
    "import seaborn as sns\n",
    "import plotly.express as px\n",
    "import plotly.graph_objects as go\n",
    "from datetime import datetime\n",
    "import warnings\n",
    "warnings.filterwarnings('ignore')\n",
    "\n",
    "# Set style for better visualizations\n",
    "plt.style.use('default')  # Using default style instead of seaborn\n",
    "sns.set_theme(style=\"whitegrid\")  # Set seaborn theme explicitly\n",
    "\n",
    "# Define a custom color palette\n",
    "colors = ['#2E86C1', '#3498DB', '#5DADE2', '#85C1E9', '#AED6F1']"
   ]
  },
  {
   "cell_type": "markdown",
   "metadata": {},
   "source": [
    "## 1. Data Loading and Cleaning"
   ]
  },
  {
   "cell_type": "code",
   "execution_count": null,
   "metadata": {},
   "source": [
    "# Load the dataset\n",
    "df = pd.read_excel('Online Retail Data Set.xlsx')\n",
    "\n",
    "# Display basic information about the dataset\n",
    "print(\"Dataset Info:\")\n",
    "print(df.info())\n",
    "print(\"\\nFirst few rows:\")\n",
    "df.head()"
   ]
  },
  {
   "cell_type": "code",
   "execution_count": null,
   "metadata": {},
   "source": [
    "# Data cleaning steps\n",
    "def clean_data(df):\n",
    "    # Remove rows with missing values\n",
    "    df = df.dropna()\n",
    "    \n",
    "    # Remove rows with negative quantities or prices\n",
    "    df = df[(df['Quantity'] > 0) & (df['UnitPrice'] > 0)]\n",
    "    \n",
    "    # Add TotalAmount column\n",
    "    df['TotalAmount'] = df['Quantity'] * df['UnitPrice']\n",
    "    \n",
    "    # Convert InvoiceDate to datetime\n",
    "    df['InvoiceDate'] = pd.to_datetime(df['InvoiceDate'])\n",
    "    \n",
    "    # Extract month and year\n",
    "    df['Month'] = df['InvoiceDate'].dt.to_period('M')\n",
    "    \n",
    "    return df\n",
    "\n",
    "# Clean the data\n",
    "df_clean = clean_data(df.copy())\n",
    "print(\"Shape after cleaning:\", df_clean.shape)"
   ]
  },
  {
   "cell_type": "markdown",
   "metadata": {},
   "source": [
    "## 2. Monthly Sales Trends"
   ]
  },
  {
   "cell_type": "code",
   "execution_count": null,
   "metadata": {},
   "source": [
    "# Calculate monthly sales\n",
    "monthly_sales = df_clean.groupby('Month')['TotalAmount'].sum().reset_index()\n",
    "monthly_sales['Month'] = monthly_sales['Month'].astype(str)\n",
    "\n",
    "# Create monthly sales trend visualization using plotly\n",
    "fig = go.Figure()\n",
    "fig.add_trace(go.Scatter(\n",
    "    x=monthly_sales['Month'],\n",
    "    y=monthly_sales['TotalAmount'],\n",
    "    mode='lines+markers',\n",
    "    name='Monthly Sales',\n",
    "    line=dict(color=colors[0], width=3),\n",
    "    marker=dict(size=8)\n",
    "))\n",
    "\n",
    "fig.update_layout(\n",
    "    title='Monthly Sales Trends',\n",
    "    xaxis_title='Month',\n",
    "    yaxis_title='Total Sales',\n",
    "    template='plotly_white',\n",
    "    showlegend=False\n",
    ")\n",
    "\n",
    "fig.show()"
   ]
  },
  {
   "cell_type": "markdown",
   "metadata": {},
   "source": [
    "## 3. Best-Selling Products Analysis"
   ]
  },
  {
   "cell_type": "code",
   "execution_count": null,
   "metadata": {},
   "source": [
    "# Calculate top 10 best-selling products\n",
    "top_products = df_clean.groupby('Description')[\n",
    "    ['Quantity', 'TotalAmount']\n",
    "].agg({\n",
    "    'Quantity': 'sum',\n",
    "    'TotalAmount': 'sum'\n",
    "}).sort_values('TotalAmount', ascending=False).head(10)\n",
    "\n",
    "# Create visualization using plotly\n",
    "fig = go.Figure()\n",
    "fig.add_trace(go.Bar(\n",
    "    x=top_products['TotalAmount'],\n",
    "    y=top_products.index,\n",
    "    orientation='h',\n",
    "    marker_color=colors[1]\n",
    "))\n",
    "\n",
    "fig.update_layout(\n",
    "    title='Top 10 Best-Selling Products by Revenue',\n",
    "    xaxis_title='Total Revenue',\n",
    "    yaxis_title='Product',\n",
    "    template='plotly_white',\n",
    "    height=600\n",
    ")\n",
    "\n",
    "fig.show()"
   ]
  },
  {
   "cell_type": "markdown",
   "metadata": {},
   "source": [
    "## 4. Sales by Country"
   ]
  },
  {
   "cell_type": "code",
   "execution_count": null,
   "metadata": {},
   "source": [
    "# Calculate sales by country\n",
    "country_sales = df_clean.groupby('Country')['TotalAmount'].sum().sort_values(ascending=True)\n",
    "\n",
    "# Create visualization using plotly\n",
    "fig = go.Figure()\n",
    "fig.add_trace(go.Bar(\n",
    "    x=country_sales.values,\n",
    "    y=country_sales.index,\n",
    "    orientation='h',\n",
    "    marker_color=colors[2]\n",
    "))\n",
    "\n",
    "fig.update_layout(\n",
    "    title='Sales by Country',\n",
    "    xaxis_title='Total Sales',\n",
    "    yaxis_title='Country',\n",
    "    template='plotly_white',\n",
    "    height=600\n",
    ")\n",
    "\n",
    "fig.show()"
   ]
  },
  {
   "cell_type": "markdown",
   "metadata": {},
   "source": [
    "## 5. Product Categories Analysis"
   ]
  },
  {
   "cell_type": "code",
   "execution_count": null,
   "metadata": {},
   "source": [
    "# Function to extract categories\n",
    "def extract_category(description):\n",
    "    categories = {\n",
    "        'VINTAGE': 'Vintage Items',\n",
    "        'GARDEN': 'Garden Accessories',\n",
    "        'CHRISTMAS': 'Christmas Items',\n",
    "        'METAL': 'Metal Signs & Decor',\n",
    "        'WOOD': 'Wooden Items',\n",
    "        'GLASS': 'Glassware',\n",
    "        'PAPER': 'Paper Products',\n",
    "        'CERAMIC': 'Ceramic Items'\n",
    "    }\n",
    "    \n",
    "    description = str(description).upper()\n",
    "    for key in categories:\n",
    "        if key in description:\n",
    "            return categories[key]\n",
    "    return 'Other'\n",
    "\n",
    "# Add category column\n",
    "df_clean['Category'] = df_clean['Description'].apply(extract_category)\n",
    "\n",
    "# Analyze sales by category\n",
    "category_sales = df_clean.groupby('Category')['TotalAmount'].sum().sort_values(ascending=True)\n",
    "\n",
    "# Create visualization using plotly\n",
    "fig = go.Figure(data=[go.Pie(\n",
    "    labels=category_sales.index,\n",
    "    values=category_sales.values,\n",
    "    hole=0.3,\n",
    "    marker_colors=colors\n",
    ")])\n",
    "\n",
    "fig.update_layout(\n",
    "    title='Sales Distribution by Product Category',\n",
    "    template='plotly_white'\n",
    ")\n",
    "\n",
    "fig.show()"
   ]
  },
  {
   "cell_type": "markdown",
   "metadata": {},
   "source": [
    "## 6. Customer Behavior Analysis"
   ]
  },
  {
   "cell_type": "code",
   "execution_count": null,
   "metadata": {},
   "source": [
    "# Create customer cohorts\n",
    "def create_cohort(df):\n",
    "    df['CohortMonth'] = df.groupby('CustomerID')['InvoiceDate'].transform('min').dt.to_period('M')\n",
    "    df['CohortIndex'] = (df['InvoiceDate'].dt.to_period('M') - df['CohortMonth']).apply(lambda x: x.n)\n",
    "    return df\n",
    "\n",
    "# Create cohorts\n",
    "df_cohort = create_cohort(df_clean[df_clean['CustomerID'].notna()])\n",
    "\n",
    "# Create cohort analysis\n",
    "cohort_data = df_cohort.groupby(['CohortMonth', 'CohortIndex'])['CustomerID'].nunique().reset_index()\n",
    "cohort_table = cohort_data.pivot(index='CohortMonth',\n",
    "                                columns='CohortIndex',\n",
    "                                values='CustomerID')\n",
    "\n",
    "# Calculate retention rates\n",
    "cohort_sizes = cohort_table.iloc[:, 0]\n",
    "retention_table = cohort_table.divide(cohort_sizes, axis=0)\n",
    "\n",
    "# Create heatmap using plotly\n",
    "fig = go.Figure(data=go.Heatmap(\n",
    "    z=retention_table.values,\n",
    "    x=retention_table.columns,\n",
    "    y=retention_table.index.astype(str),\n",
    "    colorscale='RdYlBu',\n",
    "    text=np.round(retention_table.values * 100, 1),\n",
    "    texttemplate='%{text}%',\n",
    "    textfont={\"size\": 10},\n",
    "    hoverongaps=False\n",
    "))\n",
    "\n",
    "fig.update_layout(\n",
    "    title='Customer Cohort Retention Analysis',\n",
    "    xaxis_title='Cohort Index (Months)',\n",
    "    yaxis_title='Cohort Month',\n",
    "    template='plotly_white'\n",
    ")\n",
    "\n",
    "fig.show()"
   ]
  },
  {
   "cell_type": "markdown",
   "metadata": {},
   "source": [
    "## Summary\n",
    "\n",
    "This dashboard provides comprehensive insights into the online retail business:\n",
    "\n",
    "1. **Monthly Sales Trends**:\n",
    "   - Clear visualization of temporal patterns\n",
    "   - Identification of peak sales periods\n",
    "\n",
    "2. **Best-Selling Products**:\n",
    "   - Top revenue-generating items\n",
    "   - Product performance analysis\n",
    "\n",
    "3. **Geographic Analysis**:\n",
    "   - Sales distribution by country\n",
    "   - Market penetration insights\n",
    "\n",
    "4. **Product Categories**:\n",
    "   - Category-wise sales breakdown\n",
    "   - Portfolio mix analysis\n",
    "\n",
    "5. **Customer Behavior**:\n",
    "   - Cohort analysis for retention\n",
    "   - Customer lifecycle patterns\n",
    "\n",
    "The visualizations follow the 4C principles:\n",
    "- **Clear**: Easy-to-understand charts\n",
    "- **Clean**: Consistent styling and colors\n",
    "- **Concise**: Focused on key metrics\n",
    "- **Captivating**: Interactive and visually appealing"
   ]
  }
 ],
 "metadata": {
  "kernelspec": {
   "display_name": "Python 3",
   "language": "python",
   "name": "python3"
  },
  "language_info": {
   "codemirror_mode": {
    "name": "ipython",
    "version": 3
   },
   "file_extension": ".py",
   "mimetype": "text/x-python",
   "name": "python",
   "nbconvert_exporter": "python",
   "pygments_lexer": "ipython3",
   "version": "3.8.0"
  }
 },
 "nbformat": 4,
 "nbformat_minor": 4
}
