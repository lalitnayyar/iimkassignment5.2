{
 "cells": [
  {
   "cell_type": "markdown",
   "metadata": {},
   "source": [
    "# Sales Performance Dashboard\n",
    "\n",
    "## Assignment Information\n",
    "- **Course**: IIMK Professional Certificate in Data Science and Artificial Intelligence for Managers\n",
    "- **Student Name**: Lalit Nayyar\n",
    "- **Email ID**: lalitnayyar@gmail.com\n",
    "- **Assignment**: Required Assignment 5.2 : Applying Data Visualisation Principles\n",
    "\n",
    "## Introduction\n",
    "This notebook presents a comprehensive analysis of the online retail dataset, featuring multiple visualizations that follow data visualization best practices to derive business insights.\n"
   ]
  },
  {
   "cell_type": "code",
   "execution_count": null,
   "metadata": {},
   "source": [
    "# Import required libraries\n",
    "import pandas as pd\n",
    "import numpy as np\n",
    "import matplotlib.pyplot as plt\n",
    "import seaborn as sns\n",
    "\n",
    "# Set style for better visualizations\n",
    "plt.style.use('seaborn')\n",
    "sns.set_palette('Set2')"
   ]
  }
 ],
 "metadata": {
  "kernelspec": {
   "display_name": "Python 3 (ipykernel)",
   "language": "python",
   "name": "python3"
  },
  "language_info": {
   "codemirror_mode": {
    "name": "ipython",
    "version": 3
   },
   "file_extension": ".py",
   "mimetype": "text/x-python",
   "name": "python",
   "nbconvert_exporter": "python",
   "pygments_lexer": "ipython3",
   "version": "3.13.2"
  }
 },
 "nbformat": 4,
 "nbformat_minor": 5
}
